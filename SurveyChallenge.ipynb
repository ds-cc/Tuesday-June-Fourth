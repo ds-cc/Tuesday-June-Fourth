{
  "nbformat": 4,
  "nbformat_minor": 0,
  "metadata": {
    "colab": {
      "name": "SurveyChallenge.ipynb",
      "version": "0.3.2",
      "provenance": [],
      "collapsed_sections": [
        "OriC08rUDiIj",
        "wSPrZJKQDlhF"
      ],
      "include_colab_link": true
    },
    "kernelspec": {
      "name": "python3",
      "display_name": "Python 3"
    }
  },
  "cells": [
    {
      "cell_type": "markdown",
      "metadata": {
        "id": "view-in-github",
        "colab_type": "text"
      },
      "source": [
        "<a href=\"https://colab.research.google.com/github/ewuerfel66/Tuesday-June-Fourth/blob/master/SurveyChallenge.ipynb\" target=\"_parent\"><img src=\"https://colab.research.google.com/assets/colab-badge.svg\" alt=\"Open In Colab\"/></a>"
      ]
    },
    {
      "cell_type": "markdown",
      "metadata": {
        "id": "6iLPcvbrKtHJ",
        "colab_type": "text"
      },
      "source": [
        "Taylor, Gael, and Eric"
      ]
    },
    {
      "cell_type": "code",
      "metadata": {
        "id": "yrMfktuWBvmz",
        "colab_type": "code",
        "outputId": "7ffc171a-ddf2-43b5-a4c9-7ca6dea96c24",
        "colab": {
          "base_uri": "https://localhost:8080/",
          "height": 597
        }
      },
      "source": [
        "!curl https://raw.githubusercontent.com/ds-cc/Tuesday-June-Fourth/master/survey.csv"
      ],
      "execution_count": 0,
      "outputs": [
        {
          "output_type": "stream",
          "text": [
            "Unnamed: 0,What is your programming level?,What is your math level?,What level are you going to be when you finish Data Science at Lambda School? 😀,In a classroom I\n",
            "Evangelista Torricelli,6.0,8.0,10.0,just listen and take notes\n",
            "Pythagoras,1.0,3.0,9.0,just listen and take notes\n",
            "Alhazen,3.0,3.0,10.0,just listen and take notes\n",
            "Randy Pausch,8.0,8.0,9.0,just listen and take notes\n",
            "Alhazen,,,,\n",
            "Wilder Penfield,2.0,3.0,10.0,just listen and take notes\n",
            "Claudius Ptolemy,3.0,5.0,10.0,just listen and take notes\n",
            "Jean Piaget,10.0,10.0,10.0,just listen and take notes\n",
            "Claudius Ptolemy,3.0,5.0,10.0,just listen and take notes\n",
            "Clyde Tombaugh,2.0,6.0,10.0,ask a lot of questions\n",
            "Joseph Priestley,5.0,9.0,10.0,ask a lot of questions\n",
            "Evangelista Torricelli,4.0,5.0,10.0,ask a lot of questions\n",
            "Beatrix Potter,6.0,6.0,10.0,just listen and take notes\n",
            "Wilder Penfield,1.0,2.0,10.0,ask a lot of questions\n",
            "Louis Agassiz,6.0,8.0,10.0,just listen and take notes\n",
            "Luis Alvarez,4.0,6.0,10.0,ask a lot of questions\n",
            "Svante Arrhenius,2.0,6.0,10.0,just listen and take notes\n",
            "Louis Agassiz,1.0,9.0,9.0,just listen and take notes\n",
            "John Philoponus,3.0,3.0,10.0,just listen and take notes\n",
            "Charles Townes,3.0,3.0,10.0,just listen and take notes\n",
            "John Philoponus,1.0,7.0,10.0,just listen and take notes\n",
            "Wilder Penfield,1.0,7.0,10.0,ask a lot of questions\n",
            "Niccolo Tartaglia,5.0,5.0,9.0,ask a lot of questions\n",
            "Abu Nasr Al-Farabi,3.0,6.0,9.0,just listen and take notes\n",
            "Clyde Tombaugh,5.0,6.0,10.0,just listen and take notes\n",
            "Niccolo Tartaglia,6.0,6.0,10.0,ask a lot of questions\n",
            "Charles Townes,1.0,4.0,6.0,ask a lot of questions\n",
            "Alan Turing,3.0,4.0,10.0,just listen and take notes\n",
            "Joseph Priestley,5.0,6.0,10.0,just listen and take notes\n",
            "Archimedes,4.0,7.0,10.0,just listen and take notes\n"
          ],
          "name": "stdout"
        }
      ]
    },
    {
      "cell_type": "markdown",
      "metadata": {
        "id": "IESNdhFnJKna",
        "colab_type": "text"
      },
      "source": [
        "This survey contains self-reported data from students entering Lambda School Programs."
      ]
    },
    {
      "cell_type": "markdown",
      "metadata": {
        "id": "OriC08rUDiIj",
        "colab_type": "text"
      },
      "source": [
        "## Imports"
      ]
    },
    {
      "cell_type": "code",
      "metadata": {
        "id": "IKkKvNP4CK0u",
        "colab_type": "code",
        "colab": {}
      },
      "source": [
        "import pandas as pd\n",
        "import seaborn as sns"
      ],
      "execution_count": 0,
      "outputs": []
    },
    {
      "cell_type": "markdown",
      "metadata": {
        "id": "wSPrZJKQDlhF",
        "colab_type": "text"
      },
      "source": [
        "## DataFrame"
      ]
    },
    {
      "cell_type": "code",
      "metadata": {
        "id": "Zt6mLVQFBzaz",
        "colab_type": "code",
        "colab": {}
      },
      "source": [
        "df = pd.read_csv('https://raw.githubusercontent.com/ds-cc/Tuesday-June-Fourth/master/survey.csv')\n",
        "df = df.rename(columns={'Unnamed: 0':'Name', 'What is your programming level?': 'Programming Level', \n",
        "                   'What is your math level?':'Math Level', \n",
        "                   'What level are you going to be when you finish Data Science at Lambda School? 😀':'Future Level',\n",
        "                   'In a classroom I':'Classrom Behavior'})"
      ],
      "execution_count": 0,
      "outputs": []
    },
    {
      "cell_type": "markdown",
      "metadata": {
        "id": "7U3MDYpFEZF5",
        "colab_type": "text"
      },
      "source": [
        "No data in 5th row"
      ]
    },
    {
      "cell_type": "code",
      "metadata": {
        "id": "BjhAmuXgEa5h",
        "colab_type": "code",
        "colab": {}
      },
      "source": [
        "df = df.drop([4])"
      ],
      "execution_count": 0,
      "outputs": []
    },
    {
      "cell_type": "markdown",
      "metadata": {
        "id": "QspsO_IMFjdu",
        "colab_type": "text"
      },
      "source": [
        "## Descriptive Stats"
      ]
    },
    {
      "cell_type": "code",
      "metadata": {
        "id": "mHCvxufCFm-T",
        "colab_type": "code",
        "outputId": "880f7c74-e2e1-421f-c653-bf5d72028a48",
        "colab": {
          "base_uri": "https://localhost:8080/",
          "height": 300
        }
      },
      "source": [
        "df.describe()"
      ],
      "execution_count": 0,
      "outputs": [
        {
          "output_type": "execute_result",
          "data": {
            "text/html": [
              "<div>\n",
              "<style scoped>\n",
              "    .dataframe tbody tr th:only-of-type {\n",
              "        vertical-align: middle;\n",
              "    }\n",
              "\n",
              "    .dataframe tbody tr th {\n",
              "        vertical-align: top;\n",
              "    }\n",
              "\n",
              "    .dataframe thead th {\n",
              "        text-align: right;\n",
              "    }\n",
              "</style>\n",
              "<table border=\"1\" class=\"dataframe\">\n",
              "  <thead>\n",
              "    <tr style=\"text-align: right;\">\n",
              "      <th></th>\n",
              "      <th>Programming Level</th>\n",
              "      <th>Math Level</th>\n",
              "      <th>Future Level</th>\n",
              "    </tr>\n",
              "  </thead>\n",
              "  <tbody>\n",
              "    <tr>\n",
              "      <th>count</th>\n",
              "      <td>29.000000</td>\n",
              "      <td>29.000000</td>\n",
              "      <td>29.000000</td>\n",
              "    </tr>\n",
              "    <tr>\n",
              "      <th>mean</th>\n",
              "      <td>3.689655</td>\n",
              "      <td>5.724138</td>\n",
              "      <td>9.689655</td>\n",
              "    </tr>\n",
              "    <tr>\n",
              "      <th>std</th>\n",
              "      <td>2.253623</td>\n",
              "      <td>2.068411</td>\n",
              "      <td>0.806379</td>\n",
              "    </tr>\n",
              "    <tr>\n",
              "      <th>min</th>\n",
              "      <td>1.000000</td>\n",
              "      <td>2.000000</td>\n",
              "      <td>6.000000</td>\n",
              "    </tr>\n",
              "    <tr>\n",
              "      <th>25%</th>\n",
              "      <td>2.000000</td>\n",
              "      <td>4.000000</td>\n",
              "      <td>10.000000</td>\n",
              "    </tr>\n",
              "    <tr>\n",
              "      <th>50%</th>\n",
              "      <td>3.000000</td>\n",
              "      <td>6.000000</td>\n",
              "      <td>10.000000</td>\n",
              "    </tr>\n",
              "    <tr>\n",
              "      <th>75%</th>\n",
              "      <td>5.000000</td>\n",
              "      <td>7.000000</td>\n",
              "      <td>10.000000</td>\n",
              "    </tr>\n",
              "    <tr>\n",
              "      <th>max</th>\n",
              "      <td>10.000000</td>\n",
              "      <td>10.000000</td>\n",
              "      <td>10.000000</td>\n",
              "    </tr>\n",
              "  </tbody>\n",
              "</table>\n",
              "</div>"
            ],
            "text/plain": [
              "       Programming Level  Math Level  Future Level\n",
              "count          29.000000   29.000000     29.000000\n",
              "mean            3.689655    5.724138      9.689655\n",
              "std             2.253623    2.068411      0.806379\n",
              "min             1.000000    2.000000      6.000000\n",
              "25%             2.000000    4.000000     10.000000\n",
              "50%             3.000000    6.000000     10.000000\n",
              "75%             5.000000    7.000000     10.000000\n",
              "max            10.000000   10.000000     10.000000"
            ]
          },
          "metadata": {
            "tags": []
          },
          "execution_count": 21
        }
      ]
    },
    {
      "cell_type": "markdown",
      "metadata": {
        "id": "EHUkXU64JaVU",
        "colab_type": "text"
      },
      "source": [
        "The mean Math Level is higher than the mean Programming Level. This is most likely because\n",
        "everybody takes math in school, but not everybody takes programming courses.\n",
        "\n",
        "The std deviation for Future Level is significantly lower than that for Programming Level and Math Level. This implies that even though the students have varied backgrounds, they are confident they will end up with a high Future Level."
      ]
    },
    {
      "cell_type": "markdown",
      "metadata": {
        "id": "PD6S3hn3FqcZ",
        "colab_type": "text"
      },
      "source": [
        "## Search for Correlations"
      ]
    },
    {
      "cell_type": "code",
      "metadata": {
        "id": "yaReBfYuCROy",
        "colab_type": "code",
        "outputId": "9343105c-e5fe-4c42-ed5b-41030c0eb21a",
        "colab": {
          "base_uri": "https://localhost:8080/",
          "height": 636
        }
      },
      "source": [
        "sns.pairplot(df)"
      ],
      "execution_count": 0,
      "outputs": [
        {
          "output_type": "stream",
          "text": [
            "/usr/local/lib/python3.6/dist-packages/numpy/lib/histograms.py:824: RuntimeWarning: invalid value encountered in greater_equal\n",
            "  keep = (tmp_a >= first_edge)\n",
            "/usr/local/lib/python3.6/dist-packages/numpy/lib/histograms.py:825: RuntimeWarning: invalid value encountered in less_equal\n",
            "  keep &= (tmp_a <= last_edge)\n"
          ],
          "name": "stderr"
        },
        {
          "output_type": "execute_result",
          "data": {
            "text/plain": [
              "<seaborn.axisgrid.PairGrid at 0x7fc05c218940>"
            ]
          },
          "metadata": {
            "tags": []
          },
          "execution_count": 20
        },
        {
          "output_type": "display_data",
          "data": {
            "image/png": "[encoded data removed]",
            "text/plain": [
              "<Figure size 540x540 with 12 Axes>"
            ]
          },
          "metadata": {
            "tags": []
          }
        }
      ]
    },
    {
      "cell_type": "markdown",
      "metadata": {
        "id": "mTv_LDt5F6rE",
        "colab_type": "text"
      },
      "source": [
        "It looks like Math Level and Programming Level are directly (positively) correlated."
      ]
    },
    {
      "cell_type": "code",
      "metadata": {
        "id": "mfo6AxlrDtNK",
        "colab_type": "code",
        "outputId": "deaabd93-7452-4fc1-c056-fb12f9f967e1",
        "colab": {
          "base_uri": "https://localhost:8080/",
          "height": 283
        }
      },
      "source": [
        "df.plot.scatter('Math Level', 'Programming Level');"
      ],
      "execution_count": 0,
      "outputs": [
        {
          "output_type": "display_data",
          "data": {
            "image/png": "[encoded data removed]",
            "text/plain": [
              "<Figure size 432x288 with 1 Axes>"
            ]
          },
          "metadata": {
            "tags": []
          }
        }
      ]
    },
    {
      "cell_type": "code",
      "metadata": {
        "id": "AfrVJ5I8HIPv",
        "colab_type": "code",
        "colab": {}
      },
      "source": [
        "features = ['Math Level', 'Programming Level']\n",
        "target = ['Future Level']"
      ],
      "execution_count": 0,
      "outputs": []
    },
    {
      "cell_type": "code",
      "metadata": {
        "id": "M2SGS6P6GMMO",
        "colab_type": "code",
        "outputId": "12c76714-afd0-421f-a87d-74b6b1531d59",
        "colab": {
          "base_uri": "https://localhost:8080/",
          "height": 34
        }
      },
      "source": [
        "from sklearn.linear_model import LinearRegression\n",
        "model = LinearRegression()\n",
        "\n",
        "model.fit(df[features], df[target])\n",
        "model.coef_"
      ],
      "execution_count": 0,
      "outputs": [
        {
          "output_type": "execute_result",
          "data": {
            "text/plain": [
              "array([[-0.01226063,  0.08488676]])"
            ]
          },
          "metadata": {
            "tags": []
          },
          "execution_count": 34
        }
      ]
    },
    {
      "cell_type": "markdown",
      "metadata": {
        "id": "3OPIU8x1KPu1",
        "colab_type": "text"
      },
      "source": [
        "The correlations are so low, in my guess they're not statistically significant. This confirms our observation that students are confident they will be a 9/10 or 10/10 programmer by the time they finish."
      ]
    }
  ]
}