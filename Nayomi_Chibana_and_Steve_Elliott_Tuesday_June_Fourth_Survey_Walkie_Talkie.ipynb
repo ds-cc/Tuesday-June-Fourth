{
  "nbformat": 4,
  "nbformat_minor": 0,
  "metadata": {
    "colab": {
      "name": "Nayomi_Chibana_and_Steve_Elliott_Tuesday-June-Fourth-Survey-Walkie-Talkie.ipynb",
      "version": "0.3.2",
      "provenance": [],
      "include_colab_link": true
    },
    "kernelspec": {
      "name": "python3",
      "display_name": "Python 3"
    }
  },
  "cells": [
    {
      "cell_type": "markdown",
      "metadata": {
        "id": "view-in-github",
        "colab_type": "text"
      },
      "source": [
        "<a href=\"https://colab.research.google.com/github/StevenMElliott/Tuesday-June-Fourth/blob/master/Nayomi_Chibana_and_Steve_Elliott_Tuesday_June_Fourth_Survey_Walkie_Talkie.ipynb\" target=\"_parent\"><img src=\"https://colab.research.google.com/assets/colab-badge.svg\" alt=\"Open In Colab\"/></a>"
      ]
    },
    {
      "cell_type": "code",
      "metadata": {
        "id": "35T3dbvGBZBq",
        "colab_type": "code",
        "colab": {}
      },
      "source": [
        "import pandas as pd\n",
        "import matplotlib.pyplot as plt\n",
        "import seaborn as sns"
      ],
      "execution_count": 0,
      "outputs": []
    },
    {
      "cell_type": "code",
      "metadata": {
        "id": "LBLxsCzsBnX2",
        "colab_type": "code",
        "colab": {}
      },
      "source": [
        "!curl https://raw.githubusercontent.com/ds-cc/Tuesday-June-Fourth/master/survey.csv"
      ],
      "execution_count": 0,
      "outputs": []
    },
    {
      "cell_type": "code",
      "metadata": {
        "id": "COBLjk6vBzgf",
        "colab_type": "code",
        "outputId": "8b372340-a464-40a7-d0c8-25b7ef476d29",
        "colab": {
          "base_uri": "https://localhost:8080/",
          "height": 216
        }
      },
      "source": [
        "df = pd.read_csv('https://raw.githubusercontent.com/ds-cc/Tuesday-June-Fourth/master/survey.csv')\n",
        "print(df.shape)\n",
        "df.head()"
      ],
      "execution_count": 0,
      "outputs": [
        {
          "output_type": "stream",
          "text": [
            "(30, 5)\n"
          ],
          "name": "stdout"
        },
        {
          "output_type": "execute_result",
          "data": {
            "text/html": [
              "<div>\n",
              "<style scoped>\n",
              "    .dataframe tbody tr th:only-of-type {\n",
              "        vertical-align: middle;\n",
              "    }\n",
              "\n",
              "    .dataframe tbody tr th {\n",
              "        vertical-align: top;\n",
              "    }\n",
              "\n",
              "    .dataframe thead th {\n",
              "        text-align: right;\n",
              "    }\n",
              "</style>\n",
              "<table border=\"1\" class=\"dataframe\">\n",
              "  <thead>\n",
              "    <tr style=\"text-align: right;\">\n",
              "      <th></th>\n",
              "      <th>Unnamed: 0</th>\n",
              "      <th>What is your programming level?</th>\n",
              "      <th>What is your math level?</th>\n",
              "      <th>What level are you going to be when you finish Data Science at Lambda School? 😀</th>\n",
              "      <th>In a classroom I</th>\n",
              "    </tr>\n",
              "  </thead>\n",
              "  <tbody>\n",
              "    <tr>\n",
              "      <th>0</th>\n",
              "      <td>Evangelista Torricelli</td>\n",
              "      <td>6.0</td>\n",
              "      <td>8.0</td>\n",
              "      <td>10.0</td>\n",
              "      <td>just listen and take notes</td>\n",
              "    </tr>\n",
              "    <tr>\n",
              "      <th>1</th>\n",
              "      <td>Pythagoras</td>\n",
              "      <td>1.0</td>\n",
              "      <td>3.0</td>\n",
              "      <td>9.0</td>\n",
              "      <td>just listen and take notes</td>\n",
              "    </tr>\n",
              "    <tr>\n",
              "      <th>2</th>\n",
              "      <td>Alhazen</td>\n",
              "      <td>3.0</td>\n",
              "      <td>3.0</td>\n",
              "      <td>10.0</td>\n",
              "      <td>just listen and take notes</td>\n",
              "    </tr>\n",
              "    <tr>\n",
              "      <th>3</th>\n",
              "      <td>Randy Pausch</td>\n",
              "      <td>8.0</td>\n",
              "      <td>8.0</td>\n",
              "      <td>9.0</td>\n",
              "      <td>just listen and take notes</td>\n",
              "    </tr>\n",
              "    <tr>\n",
              "      <th>4</th>\n",
              "      <td>Alhazen</td>\n",
              "      <td>NaN</td>\n",
              "      <td>NaN</td>\n",
              "      <td>NaN</td>\n",
              "      <td>NaN</td>\n",
              "    </tr>\n",
              "  </tbody>\n",
              "</table>\n",
              "</div>"
            ],
            "text/plain": [
              "               Unnamed: 0  ...            In a classroom I\n",
              "0  Evangelista Torricelli  ...  just listen and take notes\n",
              "1              Pythagoras  ...  just listen and take notes\n",
              "2                 Alhazen  ...  just listen and take notes\n",
              "3            Randy Pausch  ...  just listen and take notes\n",
              "4                 Alhazen  ...                         NaN\n",
              "\n",
              "[5 rows x 5 columns]"
            ]
          },
          "metadata": {
            "tags": []
          },
          "execution_count": 3
        }
      ]
    },
    {
      "cell_type": "code",
      "metadata": {
        "id": "z7K0wf89CB1d",
        "colab_type": "code",
        "outputId": "dd826541-187b-48c8-c252-76094c95ab95",
        "colab": {
          "base_uri": "https://localhost:8080/",
          "height": 72
        }
      },
      "source": [
        "df['In a classroom I'].value_counts()"
      ],
      "execution_count": 0,
      "outputs": [
        {
          "output_type": "execute_result",
          "data": {
            "text/plain": [
              "just listen and take notes    20\n",
              "ask a lot of questions         9\n",
              "Name: In a classroom I, dtype: int64"
            ]
          },
          "metadata": {
            "tags": []
          },
          "execution_count": 4
        }
      ]
    },
    {
      "cell_type": "code",
      "metadata": {
        "id": "NpNEmHLYCzcE",
        "colab_type": "code",
        "outputId": "f52b461f-f50e-428a-e9cd-699deda3fb0d",
        "colab": {
          "base_uri": "https://localhost:8080/",
          "height": 198
        }
      },
      "source": [
        "# columns = ['name', 'prolvl','matlvl', 'dsfinlvl', 'learning_style' ]\n",
        "# data.rename(columns={'oldname':'newname'}, inplace=True)\n",
        "df.rename( columns={'Unnamed: 0':'new'}, inplace=True )\n",
        "df.head()\n",
        "\n",
        "# df.rename(columns={columns})"
      ],
      "execution_count": 0,
      "outputs": [
        {
          "output_type": "execute_result",
          "data": {
            "text/html": [
              "<div>\n",
              "<style scoped>\n",
              "    .dataframe tbody tr th:only-of-type {\n",
              "        vertical-align: middle;\n",
              "    }\n",
              "\n",
              "    .dataframe tbody tr th {\n",
              "        vertical-align: top;\n",
              "    }\n",
              "\n",
              "    .dataframe thead th {\n",
              "        text-align: right;\n",
              "    }\n",
              "</style>\n",
              "<table border=\"1\" class=\"dataframe\">\n",
              "  <thead>\n",
              "    <tr style=\"text-align: right;\">\n",
              "      <th></th>\n",
              "      <th>new</th>\n",
              "      <th>What is your programming level?</th>\n",
              "      <th>What is your math level?</th>\n",
              "      <th>What level are you going to be when you finish Data Science at Lambda School? 😀</th>\n",
              "      <th>In a classroom I</th>\n",
              "    </tr>\n",
              "  </thead>\n",
              "  <tbody>\n",
              "    <tr>\n",
              "      <th>0</th>\n",
              "      <td>Evangelista Torricelli</td>\n",
              "      <td>6.0</td>\n",
              "      <td>8.0</td>\n",
              "      <td>10.0</td>\n",
              "      <td>just listen and take notes</td>\n",
              "    </tr>\n",
              "    <tr>\n",
              "      <th>1</th>\n",
              "      <td>Pythagoras</td>\n",
              "      <td>1.0</td>\n",
              "      <td>3.0</td>\n",
              "      <td>9.0</td>\n",
              "      <td>just listen and take notes</td>\n",
              "    </tr>\n",
              "    <tr>\n",
              "      <th>2</th>\n",
              "      <td>Alhazen</td>\n",
              "      <td>3.0</td>\n",
              "      <td>3.0</td>\n",
              "      <td>10.0</td>\n",
              "      <td>just listen and take notes</td>\n",
              "    </tr>\n",
              "    <tr>\n",
              "      <th>3</th>\n",
              "      <td>Randy Pausch</td>\n",
              "      <td>8.0</td>\n",
              "      <td>8.0</td>\n",
              "      <td>9.0</td>\n",
              "      <td>just listen and take notes</td>\n",
              "    </tr>\n",
              "    <tr>\n",
              "      <th>4</th>\n",
              "      <td>Alhazen</td>\n",
              "      <td>NaN</td>\n",
              "      <td>NaN</td>\n",
              "      <td>NaN</td>\n",
              "      <td>NaN</td>\n",
              "    </tr>\n",
              "  </tbody>\n",
              "</table>\n",
              "</div>"
            ],
            "text/plain": [
              "                      new  ...            In a classroom I\n",
              "0  Evangelista Torricelli  ...  just listen and take notes\n",
              "1              Pythagoras  ...  just listen and take notes\n",
              "2                 Alhazen  ...  just listen and take notes\n",
              "3            Randy Pausch  ...  just listen and take notes\n",
              "4                 Alhazen  ...                         NaN\n",
              "\n",
              "[5 rows x 5 columns]"
            ]
          },
          "metadata": {
            "tags": []
          },
          "execution_count": 5
        }
      ]
    },
    {
      "cell_type": "code",
      "metadata": {
        "id": "NzJDQ2C8E9ZJ",
        "colab_type": "code",
        "colab": {}
      },
      "source": [
        "df = df.rename(columns={'new' : 'name', \n",
        "                   'What is your programming level?': 'pro_lvl', \n",
        "                   'What is your math level?': 'mat_lvl', \n",
        "                   'What level are you going to be when you finish Data Science at Lambda School? 😀': 'ds_fin_lvl',\n",
        "                   'In a classroom I': 'learn_style'})"
      ],
      "execution_count": 0,
      "outputs": []
    },
    {
      "cell_type": "code",
      "metadata": {
        "id": "ANJCUelWGFad",
        "colab_type": "code",
        "outputId": "f6424b1b-09a6-4255-9a2d-6ffbcd4a478b",
        "colab": {
          "base_uri": "https://localhost:8080/",
          "height": 269
        }
      },
      "source": [
        "df.plot.hist(df['pro_lvl']);"
      ],
      "execution_count": 0,
      "outputs": [
        {
          "output_type": "display_data",
          "data": {
            "image/png": "[encoded data removed]",
            "text/plain": [
              "<Figure size 432x288 with 1 Axes>"
            ]
          },
          "metadata": {
            "tags": []
          }
        }
      ]
    },
    {
      "cell_type": "code",
      "metadata": {
        "id": "ZOLOnRdhHdnP",
        "colab_type": "code",
        "outputId": "50dbf7cf-2145-4dcb-da90-363884e12cf4",
        "colab": {
          "base_uri": "https://localhost:8080/",
          "height": 72
        }
      },
      "source": [
        "df['learn_style'].value_counts()"
      ],
      "execution_count": 0,
      "outputs": [
        {
          "output_type": "execute_result",
          "data": {
            "text/plain": [
              "just listen and take notes    20\n",
              "ask a lot of questions         9\n",
              "Name: learn_style, dtype: int64"
            ]
          },
          "metadata": {
            "tags": []
          },
          "execution_count": 8
        }
      ]
    },
    {
      "cell_type": "code",
      "metadata": {
        "id": "vpxDNA8bFz7m",
        "colab_type": "code",
        "outputId": "008e487a-4d36-405b-a79e-61bbd0a08e8b",
        "colab": {
          "base_uri": "https://localhost:8080/",
          "height": 622
        }
      },
      "source": [
        "graph = sns.pairplot(df)"
      ],
      "execution_count": 0,
      "outputs": [
        {
          "output_type": "stream",
          "text": [
            "/usr/local/lib/python3.6/dist-packages/numpy/lib/histograms.py:824: RuntimeWarning: invalid value encountered in greater_equal\n",
            "  keep = (tmp_a >= first_edge)\n",
            "/usr/local/lib/python3.6/dist-packages/numpy/lib/histograms.py:825: RuntimeWarning: invalid value encountered in less_equal\n",
            "  keep &= (tmp_a <= last_edge)\n"
          ],
          "name": "stderr"
        },
        {
          "output_type": "display_data",
          "data": {
            "image/png": "[encoded data removed]",
            "text/plain": [
              "<Figure size 540x540 with 12 Axes>"
            ]
          },
          "metadata": {
            "tags": []
          }
        }
      ]
    },
    {
      "cell_type": "markdown",
      "metadata": {
        "id": "T5K2T8iRMKVp",
        "colab_type": "text"
      },
      "source": [
        "# Analysis"
      ]
    },
    {
      "cell_type": "markdown",
      "metadata": {
        "id": "QwxLQ7gbMNQK",
        "colab_type": "text"
      },
      "source": [
        "We first loaded the data and then used pandas and seaborn pair plots to analyze it statistically and detect trends or patterns.\n",
        "\n",
        "In terms of learning styles, we found that approximately one-third of the class asks a lot of questions during lectures, while two-thirds just listens and takes notes.\n",
        "\n",
        "Regarding programming level, we found that a majority of class members rate themselves between a 1 and 6, on a scale from 1 to 10, with a few outliers. \n",
        "\n",
        "As for math level, we found that a greater number of class members feel more confident about their abilities, compared to programming. Most rate themselves around a 5, on a scale from 1 to 10. The graph for this variable exhibits a normal distribution, with a median and mean at around 5.\n",
        "\n",
        "As for correlations between data, we found that there seems to be a positive relationship between math and programming level, since those who rate themselves higher in math also tend to rate themselves higher on programming abilities.\n",
        "\n",
        "As for expectations for the course, the majority of students feel confident that their level will be a 9 or 10 by the end of the course."
      ]
    },
    {
      "cell_type": "code",
      "metadata": {
        "id": "j9RTFEVWMPH7",
        "colab_type": "code",
        "colab": {}
      },
      "source": [
        ""
      ],
      "execution_count": 0,
      "outputs": []
    }
  ]
}